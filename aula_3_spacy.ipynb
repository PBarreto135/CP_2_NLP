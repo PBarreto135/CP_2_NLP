{
 "cells": [
  {
   "cell_type": "markdown",
   "id": "2bc5ceb3",
   "metadata": {},
   "source": [
    "# 0. Libs"
   ]
  },
  {
   "cell_type": "code",
   "execution_count": 2,
   "id": "2bee2895",
   "metadata": {},
   "outputs": [],
   "source": [
    "from spacy import load # lib para carregar o modelo em português\n",
    "from spacy.matcher import Matcher # lib para criar regras para detectar palavras positivas e negativas\n",
    "from spacy.tokens import Doc # lib para armazenar o sentimento em doc "
   ]
  },
  {
   "cell_type": "markdown",
   "id": "f99b98eb",
   "metadata": {},
   "source": [
    "# 1. Carregar o modelo para o idioma português (pt_core_news_sm)"
   ]
  },
  {
   "cell_type": "code",
   "execution_count": 3,
   "id": "fed0db8f",
   "metadata": {},
   "outputs": [],
   "source": [
    "# !pip install spacy"
   ]
  },
  {
   "cell_type": "code",
   "execution_count": 4,
   "id": "ef5a4271",
   "metadata": {},
   "outputs": [],
   "source": [
    "# !python -m spacy download pt_core_news_sm"
   ]
  },
  {
   "cell_type": "code",
   "execution_count": 5,
   "id": "ba79a7e0",
   "metadata": {},
   "outputs": [],
   "source": [
    "nlp = load(\"pt_core_news_sm\") # Modelo \"pequeno\" de notícias que será usado para análise de sentimentos"
   ]
  },
  {
   "cell_type": "markdown",
   "id": "bb489efa",
   "metadata": {},
   "source": [
    "# 2. Criar regras com Matcher para detectar palavras positivas e negativas"
   ]
  },
  {
   "cell_type": "code",
   "execution_count": 6,
   "id": "d9458bc2",
   "metadata": {},
   "outputs": [],
   "source": [
    "# Detecção de sentimentos\n",
    "matcher = Matcher(nlp.vocab)\n",
    "\n",
    "# Palavras positivas\n",
    "positive_patterns = [\n",
    "    [{\"LOWER\": \"bom\"}],\n",
    "    [{\"LOWER\": \"ótimo\"}],\n",
    "    [{\"LOWER\": \"excelente\"}],\n",
    "    [{\"LOWER\": \"adorei\"}],\n",
    "    [{\"LOWER\": \"incrível\"}],\n",
    "    [{\"LOWER\": \"amei\"}],\n",
    "    [{\"LOWER\": \"feliz\"}],\n",
    "    [{\"LOWER\": \"alegre\"}],\n",
    "    [{\"LOWER\": \"maravilhoso\"}],\n",
    "    [{\"LOWER\": \"superou\"}, {\"LOWER\": \"expectativas\"}],\n",
    "]\n",
    "matcher.add(\"POSITIVE\", positive_patterns)\n",
    "\n",
    "# Palavras negativas\n",
    "negative_patterns = [\n",
    "    [{\"LOWER\": \"ruim\"}],\n",
    "    [{\"LOWER\": \"péssimo\"}],\n",
    "    [{\"LOWER\": \"detestei\"}],\n",
    "    [{\"LOWER\": \"odeio\"}],\n",
    "    [{\"LOWER\": \"triste\"}],\n",
    "    [{\"LOWER\": \"decepcionante\"}],\n",
    "    [{\"LOWER\": \"horrível\"}],\n",
    "    [{\"LOWER\": \"lento\"}],\n",
    "    [{\"LOWER\": \"bug\"}],\n",
    "    [{\"LOWER\": \"arrependi\"}],\n",
    "]\n",
    "matcher.add(\"NEGATIVE\", negative_patterns)"
   ]
  },
  {
   "cell_type": "markdown",
   "id": "01a74e83",
   "metadata": {},
   "source": [
    "# 3. Adicionar uma extensão personalizada ao objeto Doc para armazenar o sentimento detectado"
   ]
  },
  {
   "cell_type": "code",
   "execution_count": 7,
   "id": "f919a79e",
   "metadata": {},
   "outputs": [],
   "source": [
    "# Criação de doc para armazenar os sentimentos\n",
    "Doc.set_extension(\"sentiment\", default=None, force=True)\n",
    "\n",
    "# Função para analisar o sentimento de um Doc\n",
    "def analyze_sentiment(doc):\n",
    "    positive_matches = 0\n",
    "    negative_matches = 0\n",
    "    matches = matcher(doc)\n",
    "    for match_id, start, end in matches:\n",
    "        if nlp.vocab.strings[match_id] == \"POSITIVE\":\n",
    "            positive_matches += 1\n",
    "        elif nlp.vocab.strings[match_id] == \"NEGATIVE\":\n",
    "            negative_matches += 1\n",
    "\n",
    "    if positive_matches > negative_matches:\n",
    "        doc._.sentiment = \"Positivo\"\n",
    "    elif negative_matches > positive_matches:\n",
    "        doc._.sentiment = \"Negativo\"\n",
    "    elif positive_matches > 0 or negative_matches > 0:\n",
    "        doc._.sentiment = \"Neutro/Misto\"\n",
    "    else:\n",
    "        doc._.sentiment = \"Não detectado\"\n",
    "    return doc._.sentiment"
   ]
  },
  {
   "cell_type": "markdown",
   "id": "eb127674",
   "metadata": {},
   "source": [
    "# 4. Analisar uma lista com pelo menos 5 frases e imprimir o sentimento de cada uma"
   ]
  },
  {
   "cell_type": "code",
   "execution_count": 8,
   "id": "2c892414",
   "metadata": {},
   "outputs": [
    {
     "name": "stdout",
     "output_type": "stream",
     "text": [
      "Análise de Sentimento das Frases:\n",
      "Frase: 'A comida estava muito boa e o atendimento foi excelente.' - Sentimento: Positivo\n",
      "Frase: 'Não gostei nada do filme, achei péssimo e lento.' - Sentimento: Negativo\n",
      "Frase: 'O produto chegou rápido, mas a embalagem estava um pouco amassada.' - Sentimento: Não detectado\n",
      "Frase: 'Adorei a nova atualização do sistema, tudo ficou mais fluido.' - Sentimento: Positivo\n",
      "Frase: 'Me arrependi da compra, o aparelho apresentou um bug constante.' - Sentimento: Negativo\n",
      "Frase: 'O dia hoje está maravilhoso e ensolarado.' - Sentimento: Positivo\n",
      "Frase: 'Achei o preço um pouco alto, mas o produto cumpre a função regular.' - Sentimento: Não detectado\n"
     ]
    }
   ],
   "source": [
    "frases = [\n",
    "    \"A comida estava muito boa e o atendimento foi excelente.\",\n",
    "    \"Não gostei nada do filme, achei péssimo e lento.\",\n",
    "    \"O produto chegou rápido, mas a embalagem estava um pouco amassada.\",\n",
    "    \"Adorei a nova atualização do sistema, tudo ficou mais fluido.\",\n",
    "    \"Me arrependi da compra, o aparelho apresentou um bug constante.\",\n",
    "    \"O dia hoje está maravilhoso e ensolarado.\",\n",
    "    \"Achei o preço um pouco alto, mas o produto cumpre a função regular.\",\n",
    "]\n",
    "\n",
    "print(\"Análise de Sentimento das Frases:\")\n",
    "for frase in frases:\n",
    "    doc = nlp(frase)\n",
    "    sentimento = analyze_sentiment(doc)\n",
    "    print(f\"Frase: '{frase}' - Sentimento: {sentimento}\")"
   ]
  },
  {
   "cell_type": "markdown",
   "id": "9833f10a",
   "metadata": {},
   "source": [
    "# 5. Criar um README.md (conteúdo a ser escrito no arquivo README.md)"
   ]
  },
  {
   "cell_type": "code",
   "execution_count": 1,
   "id": "813f1602",
   "metadata": {},
   "outputs": [
    {
     "name": "stdout",
     "output_type": "stream",
     "text": [
      "\n",
      "Arquivo README.md criado com sucesso!\n"
     ]
    }
   ],
   "source": [
    "readme_content = \"\"\"\n",
    "# Análise de Sentimento com spaCy e Regras Personalizadas\n",
    "\n",
    "Este script em Python utiliza a biblioteca spaCy para realizar análise de sentimentos em frases em português. Ele emprega regras personalizadas definidas com o `Matcher` para identificar palavras e expressões que indicam sentimentos positivos ou negativos. Uma extensão personalizada é adicionada ao objeto `Doc` do spaCy para armazenar o sentimento detectado em cada frase.\n",
    "\n",
    "## Funcionamento do Código\n",
    "\n",
    "1.  **Instalação e Carregamento:**\n",
    "    * O script primeiro carrega o modelo de linguagem português `pt_core_news_sm` do spaCy. Certifique-se de que o spaCy esteja instalado (`pip install spacy`) e o modelo baixado (`python -m spacy download pt_core_news_sm`).\n",
    "\n",
    "2.  **Definição de Regras:**\n",
    "    * Utiliza o `Matcher` do spaCy para criar regras de detecção de palavras e expressões.\n",
    "    * São definidas listas de palavras e frases consideradas positivas (`positive_patterns`) e negativas (`negative_patterns`).\n",
    "    * Essas regras são adicionadas ao `Matcher` com os IDs \"POSITIVE\" e \"NEGATIVE\", respectivamente.\n",
    "\n",
    "3.  **Extensão Personalizada `Doc.sentiment`:**\n",
    "    * Uma extensão personalizada chamada `sentiment` é adicionada ao objeto `Doc` do spaCy usando `Doc.set_extension()`. Essa extensão armazenará o sentimento detectado para cada documento (frase processada). O valor padrão é `None`.\n",
    "\n",
    "4.  **Função `analyze_sentiment(doc)`:**\n",
    "    * Esta função recebe um objeto `Doc` do spaCy como entrada.\n",
    "    * Ela aplica o `Matcher` ao documento para encontrar ocorrências das palavras e expressões definidas nas regras positivas e negativas.\n",
    "    * A função conta o número de correspondências positivas e negativas.\n",
    "    * Baseado na contagem, o sentimento do documento é determinado:\n",
    "        * \"Positivo\" se houver mais correspondências positivas.\n",
    "        * \"Negativo\" se houver mais correspondências negativas.\n",
    "        * \"Neutro/Misto\" se houver correspondências positivas e/ou negativas, mas sem uma clara predominância.\n",
    "        * \"Não detectado\" se nenhuma palavra ou expressão de sentimento for encontrada.\n",
    "    * O sentimento detectado é armazenado na extensão `doc._.sentiment`.\n",
    "\n",
    "5.  **Análise de Frases:**\n",
    "    * Uma lista de frases em português é definida.\n",
    "    * O script itera sobre essa lista, processando cada frase com o modelo `nlp` para criar um objeto `Doc`.\n",
    "    * A função `analyze_sentiment()` é chamada para cada `Doc` para determinar seu sentimento.\n",
    "    * O script imprime a frase original e o sentimento detectado.\n",
    "\n",
    "## Integrantes\n",
    "\n",
    "* **Nome:** Danilo Ramalho Silva\n",
    "* **RM:**   555183\n",
    "\n",
    "* **Nome:** Israel Dalcin Alves Diniz\n",
    "* **RM:**   554668\n",
    "\n",
    "* **Nome:** João Vitor Pires da Silva\n",
    "* **RM:**   556213\n",
    "\n",
    "* **Nome:** Matheus Hungaro Fidelis\n",
    "* **RM:**   555677\n",
    "\n",
    "* **Nome:** Pablo Menezes Barreto\n",
    "* **RM:**   556389\n",
    "\n",
    "* **Nome:** Tiago Toshio Kumagai Gibo\n",
    "* **RM:**   556984\n",
    "\"\"\"\n",
    "\n",
    "# Para salvar o README.md em um arquivo:\n",
    "with open(\"README.md\", \"w\", encoding=\"utf-8\") as f:\n",
    "    f.write(readme_content)\n",
    "\n",
    "print(\"\\nArquivo README.md criado com sucesso!\")"
   ]
  }
 ],
 "metadata": {
  "kernelspec": {
   "display_name": "Python 3",
   "language": "python",
   "name": "python3"
  },
  "language_info": {
   "codemirror_mode": {
    "name": "ipython",
    "version": 3
   },
   "file_extension": ".py",
   "mimetype": "text/x-python",
   "name": "python",
   "nbconvert_exporter": "python",
   "pygments_lexer": "ipython3",
   "version": "3.10.0"
  }
 },
 "nbformat": 4,
 "nbformat_minor": 5
}

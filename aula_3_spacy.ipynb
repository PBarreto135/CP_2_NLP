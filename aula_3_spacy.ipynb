{
 "cells": [
  {
   "cell_type": "markdown",
   "id": "2bc5ceb3",
   "metadata": {},
   "source": [
    "# 0. Libs"
   ]
  },
  {
   "cell_type": "code",
   "execution_count": 2,
   "id": "2bee2895",
   "metadata": {},
   "outputs": [],
   "source": [
    "from spacy import load # lib para carregar o modelo em português\n",
    "from spacy.matcher import Matcher # lib para criar regras para detectar palavras positivas e negativas\n",
    "from spacy.tokens import Doc # lib para armazenar o sentimento em doc "
   ]
  },
  {
   "cell_type": "markdown",
   "id": "f99b98eb",
   "metadata": {},
   "source": [
    "# 1. Carregar o modelo para o idioma português (pt_core_news_sm)"
   ]
  },
  {
   "cell_type": "code",
   "execution_count": 3,
   "id": "fed0db8f",
   "metadata": {},
   "outputs": [],
   "source": [
    "# !pip install spacy"
   ]
  },
  {
   "cell_type": "code",
   "execution_count": 4,
   "id": "ef5a4271",
   "metadata": {},
   "outputs": [],
   "source": [
    "# !python -m spacy download pt_core_news_sm"
   ]
  },
  {
   "cell_type": "code",
   "execution_count": 5,
   "id": "ba79a7e0",
   "metadata": {},
   "outputs": [],
   "source": [
    "nlp = load(\"pt_core_news_sm\") # Modelo \"pequeno\" de notícias que será usado para análise de sentimentos"
   ]
  },
  {
   "cell_type": "markdown",
   "id": "bb489efa",
   "metadata": {},
   "source": [
    "# 2. Criar regras com Matcher para detectar palavras positivas e negativas"
   ]
  },
  {
   "cell_type": "code",
   "execution_count": 6,
   "id": "d9458bc2",
   "metadata": {},
   "outputs": [],
   "source": [
    "# Detecção de sentimentos\n",
    "matcher = Matcher(nlp.vocab)\n",
    "\n",
    "# Palavras positivas\n",
    "positive_patterns = [\n",
    "    [{\"LOWER\": \"bom\"}],\n",
    "    [{\"LOWER\": \"ótimo\"}],\n",
    "    [{\"LOWER\": \"excelente\"}],\n",
    "    [{\"LOWER\": \"adorei\"}],\n",
    "    [{\"LOWER\": \"incrível\"}],\n",
    "    [{\"LOWER\": \"amei\"}],\n",
    "    [{\"LOWER\": \"feliz\"}],\n",
    "    [{\"LOWER\": \"alegre\"}],\n",
    "    [{\"LOWER\": \"maravilhoso\"}],\n",
    "    [{\"LOWER\": \"superou\"}, {\"LOWER\": \"expectativas\"}],\n",
    "]\n",
    "matcher.add(\"POSITIVE\", positive_patterns)\n",
    "\n",
    "# Palavras negativas\n",
    "negative_patterns = [\n",
    "    [{\"LOWER\": \"ruim\"}],\n",
    "    [{\"LOWER\": \"péssimo\"}],\n",
    "    [{\"LOWER\": \"detestei\"}],\n",
    "    [{\"LOWER\": \"odeio\"}],\n",
    "    [{\"LOWER\": \"triste\"}],\n",
    "    [{\"LOWER\": \"decepcionante\"}],\n",
    "    [{\"LOWER\": \"horrível\"}],\n",
    "    [{\"LOWER\": \"lento\"}],\n",
    "    [{\"LOWER\": \"bug\"}],\n",
    "    [{\"LOWER\": \"arrependi\"}],\n",
    "]\n",
    "matcher.add(\"NEGATIVE\", negative_patterns)"
   ]
  },
  {
   "cell_type": "markdown",
   "id": "01a74e83",
   "metadata": {},
   "source": [
    "# 3. Adicionar uma extensão personalizada ao objeto Doc para armazenar o sentimento detectado"
   ]
  },
  {
   "cell_type": "code",
   "execution_count": 7,
   "id": "f919a79e",
   "metadata": {},
   "outputs": [],
   "source": [
    "# Criação de doc para armazenar os sentimentos\n",
    "Doc.set_extension(\"sentiment\", default=None, force=True)\n",
    "\n",
    "# Função para analisar o sentimento de um Doc\n",
    "def analyze_sentiment(doc):\n",
    "    positive_matches = 0\n",
    "    negative_matches = 0\n",
    "    matches = matcher(doc)\n",
    "    for match_id, start, end in matches:\n",
    "        if nlp.vocab.strings[match_id] == \"POSITIVE\":\n",
    "            positive_matches += 1\n",
    "        elif nlp.vocab.strings[match_id] == \"NEGATIVE\":\n",
    "            negative_matches += 1\n",
    "\n",
    "    if positive_matches > negative_matches:\n",
    "        doc._.sentiment = \"Positivo\"\n",
    "    elif negative_matches > positive_matches:\n",
    "        doc._.sentiment = \"Negativo\"\n",
    "    elif positive_matches > 0 or negative_matches > 0:\n",
    "        doc._.sentiment = \"Neutro/Misto\"\n",
    "    else:\n",
    "        doc._.sentiment = \"Não detectado\"\n",
    "    return doc._.sentiment"
   ]
  },
  {
   "cell_type": "markdown",
   "id": "eb127674",
   "metadata": {},
   "source": [
    "# 4. Analisar uma lista com pelo menos 5 frases e imprimir o sentimento de cada uma"
   ]
  },
  {
   "cell_type": "code",
   "execution_count": 8,
   "id": "2c892414",
   "metadata": {},
   "outputs": [
    {
     "name": "stdout",
     "output_type": "stream",
     "text": [
      "Análise de Sentimento das Frases:\n",
      "Frase: 'A comida estava muito boa e o atendimento foi excelente.' - Sentimento: Positivo\n",
      "Frase: 'Não gostei nada do filme, achei péssimo e lento.' - Sentimento: Negativo\n",
      "Frase: 'O produto chegou rápido, mas a embalagem estava um pouco amassada.' - Sentimento: Não detectado\n",
      "Frase: 'Adorei a nova atualização do sistema, tudo ficou mais fluido.' - Sentimento: Positivo\n",
      "Frase: 'Me arrependi da compra, o aparelho apresentou um bug constante.' - Sentimento: Negativo\n",
      "Frase: 'O dia hoje está maravilhoso e ensolarado.' - Sentimento: Positivo\n",
      "Frase: 'Achei o preço um pouco alto, mas o produto cumpre a função regular.' - Sentimento: Não detectado\n"
     ]
    }
   ],
   "source": [
    "frases = [\n",
    "    \"A comida estava muito boa e o atendimento foi excelente.\",\n",
    "    \"Não gostei nada do filme, achei péssimo e lento.\",\n",
    "    \"O produto chegou rápido, mas a embalagem estava um pouco amassada.\",\n",
    "    \"Adorei a nova atualização do sistema, tudo ficou mais fluido.\",\n",
    "    \"Me arrependi da compra, o aparelho apresentou um bug constante.\",\n",
    "    \"O dia hoje está maravilhoso e ensolarado.\",\n",
    "    \"Achei o preço um pouco alto, mas o produto cumpre a função regular.\",\n",
    "]\n",
    "\n",
    "print(\"Análise de Sentimento das Frases:\")\n",
    "for frase in frases:\n",
    "    doc = nlp(frase)\n",
    "    sentimento = analyze_sentiment(doc)\n",
    "    print(f\"Frase: '{frase}' - Sentimento: {sentimento}\")"
   ]
  }
 ],
 "metadata": {
  "kernelspec": {
   "display_name": "Python 3",
   "language": "python",
   "name": "python3"
  },
  "language_info": {
   "codemirror_mode": {
    "name": "ipython",
    "version": 3
   },
   "file_extension": ".py",
   "mimetype": "text/x-python",
   "name": "python",
   "nbconvert_exporter": "python",
   "pygments_lexer": "ipython3",
   "version": "3.10.0"
  }
 },
 "nbformat": 4,
 "nbformat_minor": 5
}
